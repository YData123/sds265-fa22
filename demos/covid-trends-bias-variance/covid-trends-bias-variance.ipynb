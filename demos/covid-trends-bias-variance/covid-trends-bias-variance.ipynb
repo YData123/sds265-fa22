{
 "cells": [
  {
   "cell_type": "markdown",
   "metadata": {},
   "source": [
    "## The New York Times Covid-19 Database\n",
    "\n",
    "The New York Times Covid-19 Database is \n",
    "a county-level database of confirmed cases and deaths, \n",
    "compiled from state and local governments and health departments across the United States.\n",
    "The initial release of the database was on Thursday, March 26, 2020, and it is updated daily. \n",
    "\n",
    "These data have fueled many articles and graphics by The Times; these are updated regularly at\n",
    "[https://www.nytimes.com/interactive/2020/us/coronavirus-us-cases.html](https://www.nytimes.com/interactive/2020/us/coronavirus-us-cases.html). \n",
    "The Times has created many visualizations that are effective communications of important information about the pandemic. \n",
    "\n",
    "The data are publically available via GitHub: [https://github.com/nytimes/covid-19-data](https://www.nytimes.com/interactive/2020/us/coronavirus-us-cases.html).  In this illustration we will only use\n",
    "the data aggregated at the state level. "
   ]
  },
  {
   "cell_type": "code",
   "execution_count": 1,
   "metadata": {},
   "outputs": [],
   "source": [
    "import matplotlib.pyplot as plt\n",
    "import pandas as pd\n",
    "import dateutil\n",
    "import numpy as np\n",
    "import statsmodels.api as sm\n",
    "%matplotlib inline\n",
    "\n",
    "covid_df = pd.read_csv(\"https://raw.githubusercontent.com/nytimes/covid-19-data/master/us-states.csv\", dtype={\"fips\": str})\n"
   ]
  },
  {
   "cell_type": "markdown",
   "metadata": {},
   "source": [
    "### Process the recent data\n",
    "\n",
    "Here is a function that creates a dataframe with the recent Covid-19 statistics for a given state. Just pass in the name of the state as a string.\n"
   ]
  },
  {
   "cell_type": "code",
   "execution_count": 2,
   "metadata": {},
   "outputs": [],
   "source": [
    "def process_recent_data(state, days_back=40):\n",
    "    # the time stamps in the original table are just strings, we convert them to have type date\n",
    "    date = [dateutil.parser.parse(d) for d in np.array(covid_df['date'])]\n",
    "    last_date = max(date)\n",
    "\n",
    "    days = np.array([(last_date - d).days for d in date])\n",
    "    df_recent = covid_df[days < days_back]\n",
    "    df_recent = df_recent.reset_index().drop('index', 1)\n",
    "\n",
    "    cases = np.array(df_recent['cases'])\n",
    "    state_df = df_recent[df_recent['state']==state]\n",
    "    state_df = state_df.reset_index().drop('index', 1)\n",
    "\n",
    "    return state_df\n"
   ]
  },
  {
   "cell_type": "markdown",
   "metadata": {},
   "source": [
    "### Fit a linear and quadratic regression model\n",
    "\n",
    "Now we'll fit a linear model to the data. To do this we'll use the <code>statsmodels.api.OLS</code> function for \"ordinary least squares.\"  First, to find the number of <i>new</i> cases each day, we'll compute the difference between the cases on a given day and the cases on the previous day. This is conveniently done with the function <code>numpy.diff</code>. Then we'll fit a quadratic regression model.\n"
   ]
  },
  {
   "cell_type": "code",
   "execution_count": 5,
   "metadata": {
    "scrolled": false
   },
   "outputs": [
    {
     "data": {
      "image/png": "[encoded data removed]",
      "text/plain": [
       "<Figure size 576x432 with 1 Axes>"
      ]
     },
     "metadata": {
      "needs_background": "light"
     },
     "output_type": "display_data"
    }
   ],
   "source": [
    "\n",
    "state_name = 'Texas'\n",
    "df = process_recent_data(state=state_name, days_back=100)\n",
    "\n",
    "new_cases = list(np.diff(np.array(df['cases'])))\n",
    "x = np.arange(len(new_cases))\n",
    "\n",
    "plt.figure(figsize=(8,6))\n",
    "\n",
    "X1 = pd.DataFrame()\n",
    "X1['x'] = x\n",
    "X1 = sm.add_constant(X1) # to get the intercept term\n",
    "model = sm.OLS(new_cases, X1).fit()\n",
    "\n",
    "X2 = pd.DataFrame()\n",
    "X2['x'] = x\n",
    "X2['x2'] = x*x\n",
    "#X2['x3'] = x*x*x\n",
    "#X2['x4'] = x*x*x*x\n",
    "#X2['x5'] = x*x*x*x*x\n",
    "#X2['x6'] = x*x*x*x*x*x\n",
    "\n",
    "X2 = sm.add_constant(X2)\n",
    "model2 = sm.OLS(new_cases,X2).fit()\n",
    "\n",
    "plt.plot(x, model.predict(X1), linewidth=2, color='blue')\n",
    "plt.plot(x, model2.predict(X2), linewidth=2, color='green')\n",
    "plt.scatter(x, new_cases, color='salmon')\n",
    "_ = plt.title('Recent trends in %s' % state_name)"
   ]
  },
  {
   "cell_type": "markdown",
   "metadata": {},
   "source": [
    "## Think about the results...\n",
    "\n",
    "Which model has higher bias?  Higher variance? Which model is more complex? Try adding higher powers of <code>x</code>. How do the results change?"
   ]
  },
  {
   "cell_type": "code",
   "execution_count": null,
   "metadata": {},
   "outputs": [],
   "source": []
  }
 ],
 "metadata": {
  "kernelspec": {
   "display_name": "Python 3",
   "language": "python",
   "name": "python3"
  },
  "language_info": {
   "codemirror_mode": {
    "name": "ipython",
    "version": 3
   },
   "file_extension": ".py",
   "mimetype": "text/x-python",
   "name": "python",
   "nbconvert_exporter": "python",
   "pygments_lexer": "ipython3",
   "version": "3.8.5"
  }
 },
 "nbformat": 4,
 "nbformat_minor": 4
}
