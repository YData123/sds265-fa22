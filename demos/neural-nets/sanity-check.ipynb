{
 "cells": [
  {
   "cell_type": "markdown",
   "metadata": {},
   "source": [
    "This notebook goes through the \"sanity check\" example from class, using `numpy` operations"
   ]
  },
  {
   "cell_type": "code",
   "execution_count": 1,
   "metadata": {},
   "outputs": [],
   "source": [
    "import numpy as np\n",
    "import matplotlib.pyplot as plt\n",
    "%matplotlib inline\n",
    "\n",
    "def linear(x):\n",
    "    return x\n",
    "\n",
    "def relu(x):\n",
    "    return np.maximum(x,0)             \n",
    "\n",
    "def sigmoid(x):\n",
    "    return 1/(1+np.exp(-x))\n",
    "\n",
    "def tanh(x):\n",
    "    return np.tanh(x)\n"
   ]
  },
  {
   "cell_type": "code",
   "execution_count": 2,
   "metadata": {},
   "outputs": [
    {
     "data": {
      "text/plain": [
       "<matplotlib.legend.Legend at 0x7ff8827b1100>"
      ]
     },
     "execution_count": 2,
     "metadata": {},
     "output_type": "execute_result"
    },
    {
     "data": {
      "image/png": "[encoded data removed]",
      "text/plain": [
       "<Figure size 720x504 with 1 Axes>"
      ]
     },
     "metadata": {
      "needs_background": "light"
     },
     "output_type": "display_data"
    }
   ],
   "source": [
    "u = np.linspace(-5, 5, 100)\n",
    "plt.figure(figsize=(10,7))\n",
    "plt.plot(u, u, linewidth=3, label='linear')\n",
    "plt.plot(u, relu(u), linewidth=3, label='relu')\n",
    "plt.plot(u, tanh(u), linewidth=3, label='tanh')\n",
    "plt.plot(u, sigmoid(u), linewidth=3, label='sigmoid')\n",
    "plt.ylim(-2,2)\n",
    "plt.legend(fontsize=15)\n"
   ]
  },
  {
   "cell_type": "code",
   "execution_count": 3,
   "metadata": {},
   "outputs": [
    {
     "name": "stdout",
     "output_type": "stream",
     "text": [
      "W:\n",
      " [[ 1 -1]\n",
      " [-2  1]\n",
      " [ 0  1]] \n",
      "b:\n",
      " [ 1  0 -1] \n",
      "beta:\n",
      " [-1  2  1]\n"
     ]
    }
   ],
   "source": [
    "b = np.array([1,0,-1])\n",
    "W = np.array([[1,-1],[-2,1],[0,1]])\n",
    "beta = np.array([-1,2,1])\n",
    "\n",
    "print('W:\\n', W, '\\nb:\\n', b, '\\nbeta:\\n', beta)"
   ]
  },
  {
   "cell_type": "code",
   "execution_count": 4,
   "metadata": {},
   "outputs": [
    {
     "name": "stdout",
     "output_type": "stream",
     "text": [
      "\n",
      "activation function: linear\n",
      "\n",
      "\t x: [-1  1]\n",
      "\t Wx+b: [-1  3  0]\n",
      "\t h(x): [-1  3  0]\n",
      "\t beta @ h: 7\n",
      "\n",
      "\t x: [ 1 -1]\n",
      "\t Wx+b: [ 3 -3 -2]\n",
      "\t h(x): [ 3 -3 -2]\n",
      "\t beta @ h: -11\n",
      "\n",
      "activation function: relu\n",
      "\n",
      "\t x: [-1  1]\n",
      "\t Wx+b: [-1  3  0]\n",
      "\t h(x): [0 3 0]\n",
      "\t beta @ h: 6\n",
      "\n",
      "\t x: [ 1 -1]\n",
      "\t Wx+b: [ 3 -3 -2]\n",
      "\t h(x): [3 0 0]\n",
      "\t beta @ h: -3\n",
      "\n",
      "activation function: tanh\n",
      "\n",
      "\t x: [-1  1]\n",
      "\t Wx+b: [-1  3  0]\n",
      "\t h(x): [-0.7616  0.9951  0.    ]\n",
      "\t beta @ h: 2.7517\n",
      "\n",
      "\t x: [ 1 -1]\n",
      "\t Wx+b: [ 3 -3 -2]\n",
      "\t h(x): [ 0.9951 -0.9951 -0.964 ]\n",
      "\t beta @ h: -3.9492\n",
      "\n",
      "activation function: sigmoid\n",
      "\n",
      "\t x: [-1  1]\n",
      "\t Wx+b: [-1  3  0]\n",
      "\t h(x): [0.2689 0.9526 0.5   ]\n",
      "\t beta @ h: 2.1362\n",
      "\n",
      "\t x: [ 1 -1]\n",
      "\t Wx+b: [ 3 -3 -2]\n",
      "\t h(x): [0.9526 0.0474 0.1192]\n",
      "\t beta @ h: -0.7385\n"
     ]
    }
   ],
   "source": [
    "activation_name = ['linear', 'relu', 'tanh', 'sigmoid']\n",
    "activation_func = [linear, relu, tanh, sigmoid]\n",
    "\n",
    "for i in range(4):\n",
    "    activation = activation_func[i]\n",
    "    print('\\nactivation function:', activation_name[i])\n",
    "    for x in [np.array([-1,1]), np.array([1,-1])]:\n",
    "        Wx = W@x + b\n",
    "        h = activation(Wx)\n",
    "        f = beta @ h\n",
    "        print('\\n\\t x:', x)\n",
    "        print('\\t Wx+b:', Wx)\n",
    "        print('\\t h(x):', np.round(h, 4))\n",
    "        print('\\t beta @ h:', np.round(beta @ h, 4))\n"
   ]
  }
 ],
 "metadata": {
  "kernelspec": {
   "display_name": "Python 3",
   "language": "python",
   "name": "python3"
  },
  "language_info": {
   "codemirror_mode": {
    "name": "ipython",
    "version": 3
   },
   "file_extension": ".py",
   "mimetype": "text/x-python",
   "name": "python",
   "nbconvert_exporter": "python",
   "pygments_lexer": "ipython3",
   "version": "3.8.5"
  }
 },
 "nbformat": 4,
 "nbformat_minor": 4
}
